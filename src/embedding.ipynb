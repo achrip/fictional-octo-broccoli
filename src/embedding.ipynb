{
 "cells": [
  {
   "cell_type": "markdown",
   "id": "11cfee90-0826-45c8-8174-8e96918dc62b",
   "metadata": {},
   "source": [
    "# Vector Embeddings for NCVS Statutory"
   ]
  },
  {
   "cell_type": "markdown",
   "id": "1a656c86-7bd3-400e-9890-8c7bc6796a5f",
   "metadata": {},
   "source": [
    "The purpose of this notebook is to evaluate the embeddings of different models. \n",
    "\n",
    "Models used in this experiment are: \n",
    "\n",
    "- `hklunp/instructor-xl`\n",
    "- "
   ]
  },
  {
   "cell_type": "markdown",
   "id": "9ef24bb5-2b4d-44d1-a338-2f80cdb77f91",
   "metadata": {},
   "source": [
    "Questions that arose within the process of experimenting: \n",
    "\n",
    "- Q: What does `chunk_size` and `chunk_overlap` do? \n",
    "- Q: Does smaller `chunk_size` mean bigger database? Since smaller chunk size translates to bigger amount"
   ]
  },
  {
   "cell_type": "markdown",
   "id": "0ce296cf-bf9a-449f-ba83-a13a1b8397d5",
   "metadata": {},
   "source": [
    "# Document loading and processing"
   ]
  },
  {
   "cell_type": "code",
   "execution_count": null,
   "id": "2f2ef149-031a-4631-8425-783c05f472ee",
   "metadata": {},
   "outputs": [],
   "source": [
    "!pip -q install langchain InstructorEmbedding sentence_transformers==2.2.2 sentencepiece Xformers "
   ]
  },
  {
   "cell_type": "code",
   "execution_count": 1,
   "id": "79089618-23b2-421a-a278-d3b2984472e8",
   "metadata": {
    "execution": {
     "iopub.execute_input": "2024-05-24T16:41:24.731766Z",
     "iopub.status.busy": "2024-05-24T16:41:24.731766Z",
     "iopub.status.idle": "2024-05-24T16:41:28.823805Z",
     "shell.execute_reply": "2024-05-24T16:41:28.822802Z",
     "shell.execute_reply.started": "2024-05-24T16:41:24.731766Z"
    }
   },
   "outputs": [],
   "source": [
    "from tqdm.auto import tqdm\n",
    "\n",
    "from langchain.text_splitter import RecursiveCharacterTextSplitter\n",
    "from langchain.chains import RetrievalQA\n",
    "from langchain.document_loaders import (PyPDFLoader, DirectoryLoader)\n",
    "\n",
    "from InstructorEmbedding import INSTRUCTOR"
   ]
  },
  {
   "cell_type": "code",
   "execution_count": 2,
   "id": "b36d3c28-a8d8-495e-8186-08e1228f84aa",
   "metadata": {
    "execution": {
     "iopub.execute_input": "2024-05-24T16:41:29.651067Z",
     "iopub.status.busy": "2024-05-24T16:41:29.650067Z",
     "iopub.status.idle": "2024-05-24T16:41:31.287295Z",
     "shell.execute_reply": "2024-05-24T16:41:31.286300Z",
     "shell.execute_reply.started": "2024-05-24T16:41:29.651067Z"
    }
   },
   "outputs": [
    {
     "name": "stdout",
     "output_type": "stream",
     "text": [
      "Chapter IV Live - Saving Appliances Bab IV  Perlengkapan Keselamatan NCVS Indonesia\n",
      "IV - 1REPUBLIK INDONESIA\n",
      "KEMENTERIAN PERHUBUNGAN\n",
      "STANDAR KAPAL NON-KONVENSI \n",
      "BERBENDERA INDONESIA\n",
      "BAB IV\n",
      "BAB IV\n",
      "PERLENGKAPAN KESELAMATANREPUBLIK INDONESIA\n",
      "MINISTRY OF TRANSPORTATION\n",
      "NON-CONVENTION VESSEL STANDARD\n",
      "INDONESIAN FLAGGED\n",
      "CHAPTER IV\n",
      "CHAPTER IV\n",
      "LIFE-SA VING APPLIANCES\n",
      "Copyright © 2010 Ministry of Transportation, Republic of Indonesia Hak cipta © 2010 Kementerian Perhubungan, Republik Indonesia\n",
      "PERLENGKAPAN KESELAMATAN\n",
      "LIFE - SAVING APPLIANCES STANDAR KAPAL NON-KONVENSI \n",
      "BERBENDERA INDONESIA\n",
      "NON-CONVENTION  VESSEL STANDARD\n",
      "INDONESIAN FLAGGEDREPUBLIK INDONESIA\n",
      "KEMENTERIAN PERHUBUNGAN\n",
      "MINISTRY OF TRANSPORTATION\n",
      "BAB      \n",
      "CHAPTER IV\n",
      "Hak cipta ©2009 Kementerian Perhubungan, Republik Indonesia\n",
      "Edisi Pertama 2009\n",
      "\n"
     ]
    }
   ],
   "source": [
    "# load single file\n",
    "pypdfloader = PyPDFLoader('../assets/ncvs_documents/CHAPTER-4_LIFE_SAVING_APPLIANCES_v.4.4_1708919237619_0.pdf')\n",
    "documents = pypdfloader.load()\n",
    "\n",
    "print(documents[0].page_content)"
   ]
  },
  {
   "cell_type": "code",
   "execution_count": 3,
   "id": "aa82fee6-d3ef-4636-8ab2-2557118718a0",
   "metadata": {
    "execution": {
     "iopub.execute_input": "2024-05-24T16:41:31.289298Z",
     "iopub.status.busy": "2024-05-24T16:41:31.288294Z",
     "iopub.status.idle": "2024-05-24T16:41:31.317884Z",
     "shell.execute_reply": "2024-05-24T16:41:31.316885Z",
     "shell.execute_reply.started": "2024-05-24T16:41:31.288294Z"
    }
   },
   "outputs": [
    {
     "data": {
      "text/plain": [
       "548"
      ]
     },
     "execution_count": 3,
     "metadata": {},
     "output_type": "execute_result"
    }
   ],
   "source": [
    "# let's stick to 512 chunk size for now, we can change this later on\n",
    "text_splitter = RecursiveCharacterTextSplitter(chunk_size=512, chunk_overlap=64)\n",
    "texts = text_splitter.split_documents(documents)\n",
    "len(texts)"
   ]
  },
  {
   "cell_type": "markdown",
   "id": "8c8332d8-dcc3-41b0-a738-c1ae6cf41f91",
   "metadata": {},
   "source": [
    "# Embedding Model Magic"
   ]
  },
  {
   "cell_type": "code",
   "execution_count": 4,
   "id": "4504eb66-4fae-4247-9d54-61f4a957e0d6",
   "metadata": {
    "execution": {
     "iopub.execute_input": "2024-05-24T16:41:32.883493Z",
     "iopub.status.busy": "2024-05-24T16:41:32.882481Z",
     "iopub.status.idle": "2024-05-24T16:41:34.035693Z",
     "shell.execute_reply": "2024-05-24T16:41:34.035693Z",
     "shell.execute_reply.started": "2024-05-24T16:41:32.883493Z"
    }
   },
   "outputs": [],
   "source": [
    "from langchain_community.embeddings import HuggingFaceInstructEmbeddings\n",
    "from langchain_chroma import Chroma\n",
    "\n",
    "cpu_model = {\"device\":\"cpu\"}\n",
    "cuda_model = {\"device\":\"cuda\"}"
   ]
  },
  {
   "cell_type": "code",
   "execution_count": null,
   "id": "0dc6e2a3-f23e-4ac0-8c70-eb97cad740fb",
   "metadata": {},
   "outputs": [],
   "source": [
    "instructor-l = HuggingFaceInstructEmbeddings(model_name=\"hkunlp/instructor-large\",\n",
    "                                           model_kwargs=cuda_model)\n",
    "\n",
    "instructor-db = Chroma.from_documents(documents=texts,\n",
    "                                      embedding=instructor-l,\n",
    "                                      persist_directory='instructorDB')"
   ]
  },
  {
   "cell_type": "code",
   "execution_count": null,
   "id": "cd3f425b-e2f5-4363-8568-1fbc7b5f2c21",
   "metadata": {},
   "outputs": [],
   "source": [
    "jina-v2 = HuggingFaceInstructEmbeddings(model_name=\"jinaai/jina-embeddings-v2-base-en\", \n",
    "                                        model_kwargs=cuda_model)\n",
    "jina-db = Chroma.from_documents(documents=texts,\n",
    "                                embedding=jina-v2,\n",
    "                                persist_directory='jinaDB')"
   ]
  },
  {
   "cell_type": "code",
   "execution_count": null,
   "id": "de9f6add-0619-4110-bc6a-62f1b49623bc",
   "metadata": {},
   "outputs": [],
   "source": [
    "minilm = HuggingFaceInstructEmbeddings(model_name=\"sentence-transformers/all-MiniLM-L6-v2\",\n",
    "                                       model_kwargs=cuda_model)\n",
    "minilm-db = Chroma.from_documents(documents=texts,\n",
    "                                  embedding=minilm,\n",
    "                                  persist_directory='minilmDB')"
   ]
  },
  {
   "cell_type": "markdown",
   "id": "2dadeb03-724d-4e88-903f-068771fdff6f",
   "metadata": {},
   "source": [
    "# Embedding Evaluation"
   ]
  },
  {
   "cell_type": "code",
   "execution_count": null,
   "id": "8b9c215b-450b-4138-b8fe-fcf36b07c72d",
   "metadata": {},
   "outputs": [],
   "source": []
  }
 ],
 "metadata": {
  "kernelspec": {
   "display_name": "rag",
   "language": "python",
   "name": "rag"
  },
  "language_info": {
   "codemirror_mode": {
    "name": "ipython",
    "version": 3
   },
   "file_extension": ".py",
   "mimetype": "text/x-python",
   "name": "python",
   "nbconvert_exporter": "python",
   "pygments_lexer": "ipython3",
   "version": "3.9.6"
  }
 },
 "nbformat": 4,
 "nbformat_minor": 5
}

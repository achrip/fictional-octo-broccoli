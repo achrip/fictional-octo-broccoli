{
  "nbformat": 4,
  "nbformat_minor": 0,
  "metadata": {
    "colab": {
      "provenance": [],
      "gpuType": "T4",
      "mount_file_id": "1D45Iqcl1tyqgKdGw7taxeVbq_Ra-JMr_",
      "authorship_tag": "ABX9TyM63GWQ6VYBAnyaoL2rVjZ1",
      "include_colab_link": true
    },
    "kernelspec": {
      "name": "python3",
      "display_name": "Python 3"
    },
    "language_info": {
      "name": "python"
    },
    "accelerator": "GPU"
  },
  "cells": [
    {
      "cell_type": "markdown",
      "metadata": {
        "id": "view-in-github",
        "colab_type": "text"
      },
      "source": [
        "<a href=\"https://colab.research.google.com/github/achrip/fictional-octo-broccoli/blob/main/src/embeddings.ipynb\" target=\"_parent\"><img src=\"https://colab.research.google.com/assets/colab-badge.svg\" alt=\"Open In Colab\"/></a>"
      ]
    },
    {
      "cell_type": "code",
      "execution_count": 1,
      "metadata": {
        "id": "jxgQT0YuXw3W",
        "colab": {
          "base_uri": "https://localhost:8080/"
        },
        "collapsed": true,
        "outputId": "33f05f37-9aa5-4fe0-fdd6-65582f7eee3b"
      },
      "outputs": [
        {
          "output_type": "stream",
          "name": "stdout",
          "text": [
            "\u001b[2K     \u001b[90m━━━━━━━━━━━━━━━━━━━━━━━━━━━━━━━━━━━━━━━━\u001b[0m \u001b[32m973.5/973.5 kB\u001b[0m \u001b[31m8.8 MB/s\u001b[0m eta \u001b[36m0:00:00\u001b[0m\n",
            "\u001b[2K     \u001b[90m━━━━━━━━━━━━━━━━━━━━━━━━━━━━━━━━━━━━━━━━\u001b[0m \u001b[32m2.1/2.1 MB\u001b[0m \u001b[31m17.8 MB/s\u001b[0m eta \u001b[36m0:00:00\u001b[0m\n",
            "\u001b[2K     \u001b[90m━━━━━━━━━━━━━━━━━━━━━━━━━━━━━━━━━━━━━━━━\u001b[0m \u001b[32m290.4/290.4 kB\u001b[0m \u001b[31m17.8 MB/s\u001b[0m eta \u001b[36m0:00:00\u001b[0m\n",
            "\u001b[2K     \u001b[90m━━━━━━━━━━━━━━━━━━━━━━━━━━━━━━━━━━━━━━━━\u001b[0m \u001b[32m302.6/302.6 kB\u001b[0m \u001b[31m19.1 MB/s\u001b[0m eta \u001b[36m0:00:00\u001b[0m\n",
            "\u001b[2K     \u001b[90m━━━━━━━━━━━━━━━━━━━━━━━━━━━━━━━━━━━━━━━━\u001b[0m \u001b[32m222.7/222.7 MB\u001b[0m \u001b[31m2.6 MB/s\u001b[0m eta \u001b[36m0:00:00\u001b[0m\n",
            "\u001b[2K     \u001b[90m━━━━━━━━━━━━━━━━━━━━━━━━━━━━━━━━━━━━━━━━\u001b[0m \u001b[32m1.3/1.3 MB\u001b[0m \u001b[31m77.0 MB/s\u001b[0m eta \u001b[36m0:00:00\u001b[0m\n",
            "\u001b[2K     \u001b[90m━━━━━━━━━━━━━━━━━━━━━━━━━━━━━━━━━━━━━━━━\u001b[0m \u001b[32m119.8/119.8 MB\u001b[0m \u001b[31m8.1 MB/s\u001b[0m eta \u001b[36m0:00:00\u001b[0m\n",
            "\u001b[2K     \u001b[90m━━━━━━━━━━━━━━━━━━━━━━━━━━━━━━━━━━━━━━━━\u001b[0m \u001b[32m1.1/1.1 MB\u001b[0m \u001b[31m72.9 MB/s\u001b[0m eta \u001b[36m0:00:00\u001b[0m\n",
            "\u001b[2K     \u001b[90m━━━━━━━━━━━━━━━━━━━━━━━━━━━━━━━━━━━━━━━━\u001b[0m \u001b[32m526.8/526.8 kB\u001b[0m \u001b[31m48.0 MB/s\u001b[0m eta \u001b[36m0:00:00\u001b[0m\n",
            "\u001b[2K     \u001b[90m━━━━━━━━━━━━━━━━━━━━━━━━━━━━━━━━━━━━━━━━\u001b[0m \u001b[32m47.2/47.2 kB\u001b[0m \u001b[31m6.7 MB/s\u001b[0m eta \u001b[36m0:00:00\u001b[0m\n",
            "\u001b[2K     \u001b[90m━━━━━━━━━━━━━━━━━━━━━━━━━━━━━━━━━━━━━━━━\u001b[0m \u001b[32m308.5/308.5 kB\u001b[0m \u001b[31m32.8 MB/s\u001b[0m eta \u001b[36m0:00:00\u001b[0m\n",
            "\u001b[2K     \u001b[90m━━━━━━━━━━━━━━━━━━━━━━━━━━━━━━━━━━━━━━━━\u001b[0m \u001b[32m122.8/122.8 kB\u001b[0m \u001b[31m16.0 MB/s\u001b[0m eta \u001b[36m0:00:00\u001b[0m\n",
            "\u001b[2K     \u001b[90m━━━━━━━━━━━━━━━━━━━━━━━━━━━━━━━━━━━━━━━━\u001b[0m \u001b[32m224.7/224.7 kB\u001b[0m \u001b[31m25.5 MB/s\u001b[0m eta \u001b[36m0:00:00\u001b[0m\n",
            "\u001b[2K     \u001b[90m━━━━━━━━━━━━━━━━━━━━━━━━━━━━━━━━━━━━━━━━\u001b[0m \u001b[32m92.0/92.0 kB\u001b[0m \u001b[31m12.9 MB/s\u001b[0m eta \u001b[36m0:00:00\u001b[0m\n",
            "\u001b[2K     \u001b[90m━━━━━━━━━━━━━━━━━━━━━━━━━━━━━━━━━━━━━━━━\u001b[0m \u001b[32m21.3/21.3 MB\u001b[0m \u001b[31m46.0 MB/s\u001b[0m eta \u001b[36m0:00:00\u001b[0m\n",
            "\u001b[2K     \u001b[90m━━━━━━━━━━━━━━━━━━━━━━━━━━━━━━━━━━━━━━━━\u001b[0m \u001b[32m2.4/2.4 MB\u001b[0m \u001b[31m69.1 MB/s\u001b[0m eta \u001b[36m0:00:00\u001b[0m\n",
            "\u001b[2K     \u001b[90m━━━━━━━━━━━━━━━━━━━━━━━━━━━━━━━━━━━━━━━━\u001b[0m \u001b[32m62.4/62.4 kB\u001b[0m \u001b[31m7.9 MB/s\u001b[0m eta \u001b[36m0:00:00\u001b[0m\n",
            "\u001b[2K     \u001b[90m━━━━━━━━━━━━━━━━━━━━━━━━━━━━━━━━━━━━━━━━\u001b[0m \u001b[32m41.3/41.3 kB\u001b[0m \u001b[31m5.4 MB/s\u001b[0m eta \u001b[36m0:00:00\u001b[0m\n",
            "\u001b[2K     \u001b[90m━━━━━━━━━━━━━━━━━━━━━━━━━━━━━━━━━━━━━━━━\u001b[0m \u001b[32m6.8/6.8 MB\u001b[0m \u001b[31m78.6 MB/s\u001b[0m eta \u001b[36m0:00:00\u001b[0m\n",
            "\u001b[2K     \u001b[90m━━━━━━━━━━━━━━━━━━━━━━━━━━━━━━━━━━━━━━━━\u001b[0m \u001b[32m60.1/60.1 kB\u001b[0m \u001b[31m7.1 MB/s\u001b[0m eta \u001b[36m0:00:00\u001b[0m\n",
            "\u001b[2K     \u001b[90m━━━━━━━━━━━━━━━━━━━━━━━━━━━━━━━━━━━━━━━━\u001b[0m \u001b[32m106.1/106.1 kB\u001b[0m \u001b[31m13.1 MB/s\u001b[0m eta \u001b[36m0:00:00\u001b[0m\n",
            "\u001b[2K     \u001b[90m━━━━━━━━━━━━━━━━━━━━━━━━━━━━━━━━━━━━━━━━\u001b[0m \u001b[32m67.3/67.3 kB\u001b[0m \u001b[31m9.2 MB/s\u001b[0m eta \u001b[36m0:00:00\u001b[0m\n",
            "\u001b[?25h  Installing build dependencies ... \u001b[?25l\u001b[?25hdone\n",
            "  Getting requirements to build wheel ... \u001b[?25l\u001b[?25hdone\n",
            "  Preparing metadata (pyproject.toml) ... \u001b[?25l\u001b[?25hdone\n",
            "\u001b[2K     \u001b[90m━━━━━━━━━━━━━━━━━━━━━━━━━━━━━━━━━━━━━━━━\u001b[0m \u001b[32m283.7/283.7 kB\u001b[0m \u001b[31m32.9 MB/s\u001b[0m eta \u001b[36m0:00:00\u001b[0m\n",
            "\u001b[2K     \u001b[90m━━━━━━━━━━━━━━━━━━━━━━━━━━━━━━━━━━━━━━━━\u001b[0m \u001b[32m1.6/1.6 MB\u001b[0m \u001b[31m81.4 MB/s\u001b[0m eta \u001b[36m0:00:00\u001b[0m\n",
            "\u001b[2K     \u001b[90m━━━━━━━━━━━━━━━━━━━━━━━━━━━━━━━━━━━━━━━━\u001b[0m \u001b[32m67.6/67.6 kB\u001b[0m \u001b[31m8.1 MB/s\u001b[0m eta \u001b[36m0:00:00\u001b[0m\n",
            "\u001b[2K     \u001b[90m━━━━━━━━━━━━━━━━━━━━━━━━━━━━━━━━━━━━━━━━\u001b[0m \u001b[32m142.5/142.5 kB\u001b[0m \u001b[31m14.9 MB/s\u001b[0m eta \u001b[36m0:00:00\u001b[0m\n",
            "\u001b[2K     \u001b[90m━━━━━━━━━━━━━━━━━━━━━━━━━━━━━━━━━━━━━━━━\u001b[0m \u001b[32m171.5/171.5 kB\u001b[0m \u001b[31m20.2 MB/s\u001b[0m eta \u001b[36m0:00:00\u001b[0m\n",
            "\u001b[2K     \u001b[90m━━━━━━━━━━━━━━━━━━━━━━━━━━━━━━━━━━━━━━━━\u001b[0m \u001b[32m49.3/49.3 kB\u001b[0m \u001b[31m6.2 MB/s\u001b[0m eta \u001b[36m0:00:00\u001b[0m\n",
            "\u001b[2K     \u001b[90m━━━━━━━━━━━━━━━━━━━━━━━━━━━━━━━━━━━━━━━━\u001b[0m \u001b[32m71.9/71.9 kB\u001b[0m \u001b[31m9.0 MB/s\u001b[0m eta \u001b[36m0:00:00\u001b[0m\n",
            "\u001b[2K     \u001b[90m━━━━━━━━━━━━━━━━━━━━━━━━━━━━━━━━━━━━━━━━\u001b[0m \u001b[32m75.6/75.6 kB\u001b[0m \u001b[31m10.5 MB/s\u001b[0m eta \u001b[36m0:00:00\u001b[0m\n",
            "\u001b[2K     \u001b[90m━━━━━━━━━━━━━━━━━━━━━━━━━━━━━━━━━━━━━━━━\u001b[0m \u001b[32m53.6/53.6 kB\u001b[0m \u001b[31m6.8 MB/s\u001b[0m eta \u001b[36m0:00:00\u001b[0m\n",
            "\u001b[2K     \u001b[90m━━━━━━━━━━━━━━━━━━━━━━━━━━━━━━━━━━━━━━━━\u001b[0m \u001b[32m53.0/53.0 kB\u001b[0m \u001b[31m5.8 MB/s\u001b[0m eta \u001b[36m0:00:00\u001b[0m\n",
            "\u001b[2K     \u001b[90m━━━━━━━━━━━━━━━━━━━━━━━━━━━━━━━━━━━━━━━━\u001b[0m \u001b[32m46.0/46.0 kB\u001b[0m \u001b[31m5.2 MB/s\u001b[0m eta \u001b[36m0:00:00\u001b[0m\n",
            "\u001b[2K     \u001b[90m━━━━━━━━━━━━━━━━━━━━━━━━━━━━━━━━━━━━━━━━\u001b[0m \u001b[32m50.8/50.8 kB\u001b[0m \u001b[31m5.0 MB/s\u001b[0m eta \u001b[36m0:00:00\u001b[0m\n",
            "\u001b[2K     \u001b[90m━━━━━━━━━━━━━━━━━━━━━━━━━━━━━━━━━━━━━━━━\u001b[0m \u001b[32m58.3/58.3 kB\u001b[0m \u001b[31m7.1 MB/s\u001b[0m eta \u001b[36m0:00:00\u001b[0m\n",
            "\u001b[2K     \u001b[90m━━━━━━━━━━━━━━━━━━━━━━━━━━━━━━━━━━━━━━━━\u001b[0m \u001b[32m341.4/341.4 kB\u001b[0m \u001b[31m27.9 MB/s\u001b[0m eta \u001b[36m0:00:00\u001b[0m\n",
            "\u001b[2K     \u001b[90m━━━━━━━━━━━━━━━━━━━━━━━━━━━━━━━━━━━━━━━━\u001b[0m \u001b[32m3.4/3.4 MB\u001b[0m \u001b[31m59.1 MB/s\u001b[0m eta \u001b[36m0:00:00\u001b[0m\n",
            "\u001b[2K     \u001b[90m━━━━━━━━━━━━━━━━━━━━━━━━━━━━━━━━━━━━━━━━\u001b[0m \u001b[32m1.2/1.2 MB\u001b[0m \u001b[31m68.3 MB/s\u001b[0m eta \u001b[36m0:00:00\u001b[0m\n",
            "\u001b[2K     \u001b[90m━━━━━━━━━━━━━━━━━━━━━━━━━━━━━━━━━━━━━━━━\u001b[0m \u001b[32m130.2/130.2 kB\u001b[0m \u001b[31m18.4 MB/s\u001b[0m eta \u001b[36m0:00:00\u001b[0m\n",
            "\u001b[2K     \u001b[90m━━━━━━━━━━━━━━━━━━━━━━━━━━━━━━━━━━━━━━━━\u001b[0m \u001b[32m307.7/307.7 kB\u001b[0m \u001b[31m36.1 MB/s\u001b[0m eta \u001b[36m0:00:00\u001b[0m\n",
            "\u001b[2K     \u001b[90m━━━━━━━━━━━━━━━━━━━━━━━━━━━━━━━━━━━━━━━━\u001b[0m \u001b[32m6.6/6.6 MB\u001b[0m \u001b[31m114.3 MB/s\u001b[0m eta \u001b[36m0:00:00\u001b[0m\n",
            "\u001b[2K     \u001b[90m━━━━━━━━━━━━━━━━━━━━━━━━━━━━━━━━━━━━━━━━\u001b[0m \u001b[32m6.6/6.6 MB\u001b[0m \u001b[31m89.2 MB/s\u001b[0m eta \u001b[36m0:00:00\u001b[0m\n",
            "\u001b[2K     \u001b[90m━━━━━━━━━━━━━━━━━━━━━━━━━━━━━━━━━━━━━━━━\u001b[0m \u001b[32m6.6/6.6 MB\u001b[0m \u001b[31m112.4 MB/s\u001b[0m eta \u001b[36m0:00:00\u001b[0m\n",
            "\u001b[2K     \u001b[90m━━━━━━━━━━━━━━━━━━━━━━━━━━━━━━━━━━━━━━━━\u001b[0m \u001b[32m47.3/47.3 kB\u001b[0m \u001b[31m5.3 MB/s\u001b[0m eta \u001b[36m0:00:00\u001b[0m\n",
            "\u001b[2K     \u001b[90m━━━━━━━━━━━━━━━━━━━━━━━━━━━━━━━━━━━━━━━━\u001b[0m \u001b[32m6.6/6.6 MB\u001b[0m \u001b[31m98.6 MB/s\u001b[0m eta \u001b[36m0:00:00\u001b[0m\n",
            "\u001b[2K     \u001b[90m━━━━━━━━━━━━━━━━━━━━━━━━━━━━━━━━━━━━━━━━\u001b[0m \u001b[32m6.6/6.6 MB\u001b[0m \u001b[31m109.9 MB/s\u001b[0m eta \u001b[36m0:00:00\u001b[0m\n",
            "\u001b[2K     \u001b[90m━━━━━━━━━━━━━━━━━━━━━━━━━━━━━━━━━━━━━━━━\u001b[0m \u001b[32m919.6/919.6 kB\u001b[0m \u001b[31m65.3 MB/s\u001b[0m eta \u001b[36m0:00:00\u001b[0m\n",
            "\u001b[2K     \u001b[90m━━━━━━━━━━━━━━━━━━━━━━━━━━━━━━━━━━━━━━━━\u001b[0m \u001b[32m6.7/6.7 MB\u001b[0m \u001b[31m99.5 MB/s\u001b[0m eta \u001b[36m0:00:00\u001b[0m\n",
            "\u001b[2K     \u001b[90m━━━━━━━━━━━━━━━━━━━━━━━━━━━━━━━━━━━━━━━━\u001b[0m \u001b[32m3.1/3.1 MB\u001b[0m \u001b[31m21.9 MB/s\u001b[0m eta \u001b[36m0:00:00\u001b[0m\n",
            "\u001b[2K     \u001b[90m━━━━━━━━━━━━━━━━━━━━━━━━━━━━━━━━━━━━━━━━\u001b[0m \u001b[32m6.6/6.6 MB\u001b[0m \u001b[31m103.1 MB/s\u001b[0m eta \u001b[36m0:00:00\u001b[0m\n",
            "\u001b[2K     \u001b[90m━━━━━━━━━━━━━━━━━━━━━━━━━━━━━━━━━━━━━━━━\u001b[0m \u001b[32m6.6/6.6 MB\u001b[0m \u001b[31m52.3 MB/s\u001b[0m eta \u001b[36m0:00:00\u001b[0m\n",
            "\u001b[2K     \u001b[90m━━━━━━━━━━━━━━━━━━━━━━━━━━━━━━━━━━━━━━━━\u001b[0m \u001b[32m525.5/525.5 kB\u001b[0m \u001b[31m33.5 MB/s\u001b[0m eta \u001b[36m0:00:00\u001b[0m\n",
            "\u001b[2K     \u001b[90m━━━━━━━━━━━━━━━━━━━━━━━━━━━━━━━━━━━━━━━━\u001b[0m \u001b[32m5.4/5.4 MB\u001b[0m \u001b[31m96.9 MB/s\u001b[0m eta \u001b[36m0:00:00\u001b[0m\n",
            "\u001b[2K     \u001b[90m━━━━━━━━━━━━━━━━━━━━━━━━━━━━━━━━━━━━━━━━\u001b[0m \u001b[32m91.8/91.8 kB\u001b[0m \u001b[31m13.0 MB/s\u001b[0m eta \u001b[36m0:00:00\u001b[0m\n",
            "\u001b[2K     \u001b[90m━━━━━━━━━━━━━━━━━━━━━━━━━━━━━━━━━━━━━━━━\u001b[0m \u001b[32m86.8/86.8 kB\u001b[0m \u001b[31m12.4 MB/s\u001b[0m eta \u001b[36m0:00:00\u001b[0m\n",
            "\u001b[?25h  Building wheel for pypika (pyproject.toml) ... \u001b[?25l\u001b[?25hdone\n"
          ]
        }
      ],
      "source": [
        "!pip install -Uq \\\n",
        "langchain langchain-community langchain-huggingface langchain-chroma \\\n",
        "pypdf transformers accelerate Xformers InstructorEmbedding \\\n",
        "sentencepiece bitsandbytes tiktoken chromadb typer semantic_split"
      ]
    },
    {
      "cell_type": "markdown",
      "source": [
        "# Document Pre-Processing\n",
        "\n",
        "- Importing PDFs\n",
        "- Parsing PDFs\n",
        "- Splitting into chunks"
      ],
      "metadata": {
        "id": "xOpCoZTokY88"
      }
    },
    {
      "cell_type": "code",
      "source": [
        "import os\n",
        "\n",
        "from langchain.text_splitter import RecursiveCharacterTextSplitter\n",
        "from langchain_community.document_loaders import PyPDFLoader, DirectoryLoader\n",
        "from semantic_split import SimilarSentenceSplitter, SentenceTransformersSimilarity, SpacySentenceSplitter"
      ],
      "metadata": {
        "id": "REVZPZGCjCXa"
      },
      "execution_count": 2,
      "outputs": []
    },
    {
      "cell_type": "code",
      "source": [
        "path = \"/content/drive/MyDrive/ncvs_documents/\"\n",
        "# loader = DirectoryLoader(path=path,\n",
        "#                          glob=\"*.pdf\",\n",
        "#                          loader_cls=PyPDFLoader)\n",
        "loader = PyPDFLoader(file_path=\"/content/drive/MyDrive/ncvs_documents/CHAPTER-4_LIFE_SAVING_APPLIANCES_v.4.4_1708919237619_0.pdf\")\n",
        "\n",
        "documents = loader.load()\n",
        "len(documents)"
      ],
      "metadata": {
        "id": "saOupBeaj7Fc",
        "colab": {
          "base_uri": "https://localhost:8080/"
        },
        "outputId": "703ddd1d-4763-4c15-ff3d-61217868b895"
      },
      "execution_count": 15,
      "outputs": [
        {
          "output_type": "execute_result",
          "data": {
            "text/plain": [
              "39"
            ]
          },
          "metadata": {},
          "execution_count": 15
        }
      ]
    },
    {
      "cell_type": "markdown",
      "source": [
        "The `documents` is specifically an instance of `List[Document]` class. It consists of the tuple: `page_content` and `metadata` as shown below."
      ],
      "metadata": {
        "id": "kb5_xhnmllB4"
      }
    },
    {
      "cell_type": "code",
      "source": [
        "documents[13]"
      ],
      "metadata": {
        "colab": {
          "base_uri": "https://localhost:8080/"
        },
        "id": "e45tL1X6kTWG",
        "outputId": "59c4672b-1e44-4113-b508-a8ead668ec5b"
      },
      "execution_count": 16,
      "outputs": [
        {
          "output_type": "execute_result",
          "data": {
            "text/plain": [
              "Document(page_content='IV - 14Chapter IV Live Saving Appliances Bab IV Perlengkapan Keselamatan NCVS Indonesia\\nto\\tthe\\tspecified\\t load\\tline\\tin\\torder\\tto\\tmeasure\\tthe\\t\\nfreeboard.\\n6) The freshwater freeboard for the life boat with a \\nstandard sheer shall be at least 3% of the length of the boat, but shall not be less than 7; 9.5;13 and 16.5 cm respectively for the life boats with depths of 31, 46, 61 and 76 cms.   \\n Section 3  DA VITS AND LAUNCHING ARRANGEMENTS  \\n    FOR  LIFE BOATS\\n3.1. Type of davits3.1.1. Davits for life boats shall be:1)\\t Of\\t a\\tluffing\\tgravity\\tof\\tmechanically\\t controlled\\t\\nsingle arm type, where the mass of the fully equipped life boat, manned and ready for launch -\\ning, is less than 2.3 tonnes; or\\n2) of gravity type, where such mass exceeds 2.3 \\ntonnes.\\n3) The mass of a life boat when fully loaded with persons and equipment shall not exceed 20.3 tonnes, a person being deemed for the purposes of this provision to be 75 kilograms.\\n3.1.2. Strength1) Every davit serving a life boat which is required to be put into the water when loaded with its full complement of persons shall, together with its winch, falls, blocks and all other associated lower -\\ning gear, be a such strength that the life boat with its full equipment and manned by a launching crew of not less than two persons can be turned out and then safely lowered into the water from the embarkation position with its full complement of persons, when the vessel has a trim of up to 10° and is list up 15° either way.\\n2) Every mechanically controlled single-arm davit shall together with its winch, falls, blocks and all other associated lowering gear be of such strength and the operating gear shall be of such power that the life boat when fully equipped and manned with a launching crew of two members can be turned out and then safely lowered into the water with the vessel listed to 25°.\\n3) Every set of davits, davit or other means of launching to which a coastal life boat is at-tached, other than a davit the strength of which is\\tspecified\\tabove\\t\\tshall\\ttogether\\twith\\tits\\twinch,\\t\\nfalls, blocks and all other associated lowering gear be such strength that the coastal  life boat with its full equipment and manned by a launch-ing crew of two members, can be turned out and then safely lowered into the water when the ves-sel has a trim of 10° and is list up 15° either way.\\n4) Every set of davits, davit or other means of launching to which a coastal life boat is at-tached, together with its winch and all associ-ated hoisting gear shall be of such strength that the boat can be safely hoisted and stowed when loaded with its full equipment and at least two persons.lambung sekoci sampai garis muat yang diijinkan untuk mengukur lambung timbul.\\n6) Lambung timbul di air tawar untuk sekoci yang mempunyai lengkung standar, harus sekurang-kurangnya 3 persen dari panjangnya, tetapi tidak boleh kurang dari 7; 9,5; 13 dan 16,5 cm untuk da-lam sekoci masing-masing 31, 46, 61 dan 76 cm\\nSeksi 3 DEWI-DEWI DAN PENGATURAN PELUNCURAN  \\n   SEKOCI PENOLONG\\n3.1. Jenis Dewi-dewi3.1.1. Dewi-dewi untuk sekoci penolong harus:1) dari tipe dengan takal yang bergerak dengan gaya berat yang dikendalikan secara mekanis dengan satu\\ttuas\\t(luffing\\tgravity),\\tbila\\tmassa\\tdari\\tsekoci\\t\\npenolong yang lengkap peralatannya, diawaki, dan siap untuk meluncur, kurang dari 2,3 ton; atau \\n2) dari tipe  gaya berat, di mana massa melebihi 2,3 ton.\\n3) Massa sekoci penolong ketika penuh dengan mua-tan orang dan peralatan tidak boleh melebihi 20,3 ton, dengan catatan berat satu orang dianggap 75 kilogram.\\n3.1.2. Kekuatan 1) dewi-dewi yang melayani sekoci penolong yang disyaratkan dapat diturunkan ke air pada saat dimuati penuh dengan penumpang, bersama-sama dengan pangsi (winch), rip, blok dan semua per -\\nalatan untuk menurunkan sekoci terkait lainnya, harus mempunyai kekuatan sedemikian sehingga sekoci penolong dengan perlengkapan dan di-awaki penuh oleh awak kapal yang meluncurkan yang tidak boleh kurang dari dua orang dapat di-ayun keluar dan diturunkan dengan selamat ke air dari posisi embarkasi dengan penumpang penuh, ketika kapal tungging sampai 10° dan senget ke kanan atau kiri 15°. \\n2) Setiap dewi-dewi yang dikendalikan secara meka-nis dengan satu tuas bersama-sama dengan pangsi (winch), rip, blok dan semua peralatan untuk menurunkan sekoci terkait lainnya harus memiliki kekuatan yang memungkinkan sekoci penolong tersebut yang penuh dengan muatan dan diawaki oleh dua awak kapal yang menurunkan sekoci da-pat diayun keluar dan diturunkan dengan selamat ke air ketika kapal dengan senget 25°.\\n3) Setiap perangkat dewi-dewi, dewi-dewi atau alat peluncur lainnya di mana sekoci penolong di-ikatkan, selain dari dewi-dewi yang kekuatannya dijelaskan di atas, bersama-sama dengan dengan pangsi (winch), rip, blok dan semua peralatan untuk menurunkan sekoci terkait lainnya harus mempunyai kekuatan sedemikian sehingga sekoci penolong tersebut dengan perlengkapan penuh dan diawaki oleh dua orang awak kapal untuk meluncurkan dapat diayun keluar  dan diturunkan dengan selamat ke air ketika kapal tungging 10° dan senget 15° ke kiri atau ke kanan.\\n4) Setiap perangkat dewi-dewi, dewi-dewi atau alat peluncur lainnya ke alat mana sekoci diikatkan, bersama-sama dengan dengan pangsi (winch), dan semua gir pengangkat yang terkait lainnya harus mempunyai kekuatan sedemikian sehingga sekoci penolong dapat diangkat dan disimpan di tempat -\\nnya ketika terisi penuh dengan perlengkapan dan dengan paling kurang 2 orang.', metadata={'source': '/content/drive/MyDrive/ncvs_documents/CHAPTER-4_LIFE_SAVING_APPLIANCES_v.4.4_1708919237619_0.pdf', 'page': 13})"
            ]
          },
          "metadata": {},
          "execution_count": 16
        }
      ]
    },
    {
      "cell_type": "markdown",
      "source": [
        "Clean escape characters (`\\n`, `\\t`) and multiple whitespaces"
      ],
      "metadata": {
        "id": "2VE2TuUoweHi"
      }
    },
    {
      "cell_type": "code",
      "source": [
        "import re\n",
        "\n",
        "for i in range(len(documents)):\n",
        "  cleaned_docs = re.sub(\"\\s+\", \" \", documents[i].page_content)\n",
        "  documents[i].page_content = cleaned_docs"
      ],
      "metadata": {
        "id": "pv5vLkAJucJs"
      },
      "execution_count": 17,
      "outputs": []
    },
    {
      "cell_type": "code",
      "source": [
        "documents[13]"
      ],
      "metadata": {
        "colab": {
          "base_uri": "https://localhost:8080/"
        },
        "id": "0G5qpg5awWo7",
        "outputId": "ad6871e4-bfb3-42f4-865d-1cab80454d86"
      },
      "execution_count": 24,
      "outputs": [
        {
          "output_type": "execute_result",
          "data": {
            "text/plain": [
              "Document(page_content='IV - 14Chapter IV Live Saving Appliances Bab IV Perlengkapan Keselamatan NCVS Indonesia to the specified load line in order to measure the freeboard. 6) The freshwater freeboard for the life boat with a standard sheer shall be at least 3% of the length of the boat, but shall not be less than 7; 9.5;13 and 16.5 cm respectively for the life boats with depths of 31, 46, 61 and 76 cms. Section 3 DA VITS AND LAUNCHING ARRANGEMENTS FOR LIFE BOATS 3.1. Type of davits3.1.1. Davits for life boats shall be:1) Of a luffing gravity of mechanically controlled single arm type, where the mass of the fully equipped life boat, manned and ready for launch - ing, is less than 2.3 tonnes; or 2) of gravity type, where such mass exceeds 2.3 tonnes. 3) The mass of a life boat when fully loaded with persons and equipment shall not exceed 20.3 tonnes, a person being deemed for the purposes of this provision to be 75 kilograms. 3.1.2. Strength1) Every davit serving a life boat which is required to be put into the water when loaded with its full complement of persons shall, together with its winch, falls, blocks and all other associated lower - ing gear, be a such strength that the life boat with its full equipment and manned by a launching crew of not less than two persons can be turned out and then safely lowered into the water from the embarkation position with its full complement of persons, when the vessel has a trim of up to 10° and is list up 15° either way. 2) Every mechanically controlled single-arm davit shall together with its winch, falls, blocks and all other associated lowering gear be of such strength and the operating gear shall be of such power that the life boat when fully equipped and manned with a launching crew of two members can be turned out and then safely lowered into the water with the vessel listed to 25°. 3) Every set of davits, davit or other means of launching to which a coastal life boat is at-tached, other than a davit the strength of which is specified above shall together with its winch, falls, blocks and all other associated lowering gear be such strength that the coastal life boat with its full equipment and manned by a launch-ing crew of two members, can be turned out and then safely lowered into the water when the ves-sel has a trim of 10° and is list up 15° either way. 4) Every set of davits, davit or other means of launching to which a coastal life boat is at-tached, together with its winch and all associ-ated hoisting gear shall be of such strength that the boat can be safely hoisted and stowed when loaded with its full equipment and at least two persons.lambung sekoci sampai garis muat yang diijinkan untuk mengukur lambung timbul. 6) Lambung timbul di air tawar untuk sekoci yang mempunyai lengkung standar, harus sekurang-kurangnya 3 persen dari panjangnya, tetapi tidak boleh kurang dari 7; 9,5; 13 dan 16,5 cm untuk da-lam sekoci masing-masing 31, 46, 61 dan 76 cm Seksi 3 DEWI-DEWI DAN PENGATURAN PELUNCURAN SEKOCI PENOLONG 3.1. Jenis Dewi-dewi3.1.1. Dewi-dewi untuk sekoci penolong harus:1) dari tipe dengan takal yang bergerak dengan gaya berat yang dikendalikan secara mekanis dengan satu tuas (luffing gravity), bila massa dari sekoci penolong yang lengkap peralatannya, diawaki, dan siap untuk meluncur, kurang dari 2,3 ton; atau 2) dari tipe gaya berat, di mana massa melebihi 2,3 ton. 3) Massa sekoci penolong ketika penuh dengan mua-tan orang dan peralatan tidak boleh melebihi 20,3 ton, dengan catatan berat satu orang dianggap 75 kilogram. 3.1.2. Kekuatan 1) dewi-dewi yang melayani sekoci penolong yang disyaratkan dapat diturunkan ke air pada saat dimuati penuh dengan penumpang, bersama-sama dengan pangsi (winch), rip, blok dan semua per - alatan untuk menurunkan sekoci terkait lainnya, harus mempunyai kekuatan sedemikian sehingga sekoci penolong dengan perlengkapan dan di-awaki penuh oleh awak kapal yang meluncurkan yang tidak boleh kurang dari dua orang dapat di-ayun keluar dan diturunkan dengan selamat ke air dari posisi embarkasi dengan penumpang penuh, ketika kapal tungging sampai 10° dan senget ke kanan atau kiri 15°. 2) Setiap dewi-dewi yang dikendalikan secara meka-nis dengan satu tuas bersama-sama dengan pangsi (winch), rip, blok dan semua peralatan untuk menurunkan sekoci terkait lainnya harus memiliki kekuatan yang memungkinkan sekoci penolong tersebut yang penuh dengan muatan dan diawaki oleh dua awak kapal yang menurunkan sekoci da-pat diayun keluar dan diturunkan dengan selamat ke air ketika kapal dengan senget 25°. 3) Setiap perangkat dewi-dewi, dewi-dewi atau alat peluncur lainnya di mana sekoci penolong di-ikatkan, selain dari dewi-dewi yang kekuatannya dijelaskan di atas, bersama-sama dengan dengan pangsi (winch), rip, blok dan semua peralatan untuk menurunkan sekoci terkait lainnya harus mempunyai kekuatan sedemikian sehingga sekoci penolong tersebut dengan perlengkapan penuh dan diawaki oleh dua orang awak kapal untuk meluncurkan dapat diayun keluar dan diturunkan dengan selamat ke air ketika kapal tungging 10° dan senget 15° ke kiri atau ke kanan. 4) Setiap perangkat dewi-dewi, dewi-dewi atau alat peluncur lainnya ke alat mana sekoci diikatkan, bersama-sama dengan dengan pangsi (winch), dan semua gir pengangkat yang terkait lainnya harus mempunyai kekuatan sedemikian sehingga sekoci penolong dapat diangkat dan disimpan di tempat - nya ketika terisi penuh dengan perlengkapan dan dengan paling kurang 2 orang.', metadata={'source': '/content/drive/MyDrive/ncvs_documents/CHAPTER-4_LIFE_SAVING_APPLIANCES_v.4.4_1708919237619_0.pdf', 'page': 13})"
            ]
          },
          "metadata": {},
          "execution_count": 24
        }
      ]
    },
    {
      "cell_type": "markdown",
      "source": [
        "## Splitting into Chunks\n",
        "\n",
        "There are two such splitters that are recommended here, one is the `RecursiveCharacterTextSplitter`from Langchain and the other is the [`semantic-split`](https://github.com/agamm/semantic-split) by Agamm.\n",
        "\n",
        "> Known issues:  \n",
        "> `semantic-split` uses string as arguments, meaning we _could_ very well lose page metadata of the content itself. Workaround is in progress."
      ],
      "metadata": {
        "id": "ZNclIWdrmEUh"
      }
    },
    {
      "cell_type": "code",
      "source": [
        "recursive_splitter = RecursiveCharacterTextSplitter(chunk_size=512,\n",
        "                                                    chunk_overlap=64,\n",
        "                                                    separators=[\"\\n\\n\",\n",
        "                                                                \"\\n\",\n",
        "                                                                \" \",\n",
        "                                                                \".\",\n",
        "                                                                \",\",\n",
        "                                                                \"\\u200b\",  # Zero-width space\n",
        "                                                                \"\\uff0c\",  # Fullwidth comma\n",
        "                                                                \"\\u3001\",  # Ideographic comma\n",
        "                                                                \"\\uff0e\",  # Fullwidth full stop\n",
        "                                                                \"\\u3002\",  # Ideographic full stop\n",
        "                                                                \"\"])\n",
        "semantic_splitter = SimilarSentenceSplitter(similarity_model=SentenceTransformersSimilarity(),\n",
        "                                           sentence_splitter=SpacySentenceSplitter())"
      ],
      "metadata": {
        "colab": {
          "base_uri": "https://localhost:8080/"
        },
        "id": "uv1XJfqzl4V7",
        "outputId": "c4b06caa-8cab-4b00-b069-91fab979d929"
      },
      "execution_count": 19,
      "outputs": [
        {
          "output_type": "stream",
          "name": "stderr",
          "text": [
            "/usr/local/lib/python3.10/dist-packages/huggingface_hub/file_download.py:1132: FutureWarning: `resume_download` is deprecated and will be removed in version 1.0.0. Downloads always resume when possible. If you want to force a new download, use `force_download=True`.\n",
            "  warnings.warn(\n",
            "/usr/local/lib/python3.10/dist-packages/spacy/util.py:1740: UserWarning: [W111] Jupyter notebook detected: if using `prefer_gpu()` or `require_gpu()`, include it in the same cell right before `spacy.load()` to ensure that the model is loaded on the correct device. More information: http://spacy.io/usage/v3#jupyter-notebook-gpu\n",
            "  warnings.warn(Warnings.W111)\n"
          ]
        }
      ]
    },
    {
      "cell_type": "code",
      "source": [
        "recursive_text = recursive_splitter.split_documents(documents)\n",
        "\n",
        "semantic_text= list()\n",
        "for i in range(len(documents)):\n",
        "  semantic_text.append(semantic_splitter.split(documents[i].page_content))\n",
        "\n",
        "print(f\"Recursive: {len(recursive_text)}\")\n",
        "print(f\"Semantic: {len(semantic_text)}\")"
      ],
      "metadata": {
        "id": "DWE9FwzlpSGo",
        "colab": {
          "base_uri": "https://localhost:8080/"
        },
        "outputId": "e60db7d4-cccb-4b16-816f-8b380c56de31"
      },
      "execution_count": 20,
      "outputs": [
        {
          "output_type": "stream",
          "name": "stdout",
          "text": [
            "Recursive: 501\n",
            "Semantic: 39\n"
          ]
        }
      ]
    },
    {
      "cell_type": "code",
      "source": [
        "recursive_text[250]"
      ],
      "metadata": {
        "colab": {
          "base_uri": "https://localhost:8080/"
        },
        "id": "3fqD2_t3icYW",
        "outputId": "1b47a125-9f9c-4089-b6d3-b010382939ec"
      },
      "execution_count": 21,
      "outputs": [
        {
          "output_type": "execute_result",
          "data": {
            "text/plain": [
              "Document(page_content='adhesive and instructions. 4.4. Marking of rescue boats Retro-reflective tapes shall comply and be fitted in accordance with the requirements of rescue boats. Section 5 DINGHY 5.1. Requirement of a dinghy5.1.1. A dinghy shall be 2.4 metres length in minimum and shall be designed and constructed to meet the open waters and reserve buoyancy with level of floatation and swamped stability, and shall be fitted with buoyant materials ac- cordingly. 5.1.2. A dinghy shall be of a highly visible color. 5.1.3. The', metadata={'source': '/content/drive/MyDrive/ncvs_documents/CHAPTER-4_LIFE_SAVING_APPLIANCES_v.4.4_1708919237619_0.pdf', 'page': 18})"
            ]
          },
          "metadata": {},
          "execution_count": 21
        }
      ]
    },
    {
      "cell_type": "code",
      "source": [
        "semantic_text[18]"
      ],
      "metadata": {
        "colab": {
          "base_uri": "https://localhost:8080/"
        },
        "id": "MVC28UrIihVO",
        "outputId": "2fc3bd06-ea1e-46d5-fc1e-e7958bb40de7"
      },
      "execution_count": 22,
      "outputs": [
        {
          "output_type": "execute_result",
          "data": {
            "text/plain": [
              "[['Chapter IV Live - Saving Appliances Bab IV Perlengkapan Keselamatan NCVS Indonesia IV - 19maximum power capacity shall be determined in accor - dance with the Authority.'],\n",
              " ['4.3.2.'],\n",
              " ['Life jackets, additional to those required to be carried on the parent vessel, shall be provided for every person as-signed to crew the rescue boat.',\n",
              "  'Buoyant immersion suits, where provided, shall be deemed to satisfy this require-ment.'],\n",
              " ['4.3.3.'],\n",
              " ['A waterproof, baterai-operated torch.'],\n",
              " ['4.3.4.'],\n",
              " ['A bailer of robust construction fitted with a lanyard, or a bilge pump.'],\n",
              " ['4.3.5.', 'oars or paddles.4.3.6.', 'A heaving line with rescue boat.'],\n",
              " ['4.3.7.'],\n",
              " ['For inflatable rescue boats the following equipment shall also be supplied:1)',\n",
              "  'A bellows or pump complete with hose and adapter to suit inflation/valves and shall be capa- ble of inflating the rescue boat to normal working pressure.',\n",
              "  '2) Emergency repair kit, complete with suitable patches, adhesive and instructions.'],\n",
              " ['4.4.'],\n",
              " ['Marking of rescue boats Retro-reflective tapes shall comply and be fitted in accordance with the requirements of rescue boats.'],\n",
              " ['Section 5 DINGHY 5.1.',\n",
              "  'Requirement of a dinghy5.1.1.',\n",
              "  'A dinghy shall be 2.4 metres length in minimum and shall be designed and constructed to meet the open waters and reserve buoyancy with level of floatation and swamped stability, and shall be fitted with buoyant materials ac- cordingly.'],\n",
              " ['5.1.2.'],\n",
              " ['A dinghy shall be of a highly visible color.'],\n",
              " ['5.1.3.'],\n",
              " ['The dinghy shall be fitted with grab-lines, which are ef- fective with the dinghy upright or upturned and shall not be secured more than 150 mm or less than 100 mm below the gunwale.'],\n",
              " ['5.1.4.'],\n",
              " ['The securing points shall be spaced at not more than 460 mm or less than 300 mm centers and interlaced to prevent movement.',\n",
              "  'The depth of the loop when at right angles to the vessel shall be not more than 200 mm or less than 150 mm.'],\n",
              " ['5.2.',\n",
              "  'Equipment A dinghy shall be equipped with the following :5.2.1.',\n",
              "  'Two oars and rowlocks, or paddles 5.2.2.',\n",
              "  'one painter attached to bow5.2.3.',\n",
              "  'one bucket or bailer, attached by lanyard5.2.4.'],\n",
              " ['one bung permanently attached by lanyard 5.3.'],\n",
              " ['Marking of a dinghy Retro-reflective tapes shall comply and be fitted in accordance with the requirements of the Authority.'],\n",
              " ['5.4.'],\n",
              " ['Persons capacity The persons capacity of a dinghy shall be determined accordingly and shall be legibly and permanently marked upon the dinghy’s transom in contrasting colours in figures not less then 75 mm in height.',\n",
              "  'Section 6 INFLATABLE LIFE-RAFT 6.1.',\n",
              "  'Category A6.1.1.'],\n",
              " ['comply with SoLAS and other international conventions relating to inflatable life-rafts and all its protocols, code and amandments.'],\n",
              " ['6.2.',\n",
              "  'Category B6.2.1.',\n",
              "  'In principle is the same with category A, but with lesser quality and quantity content.',\n",
              "  'This category complies with SOLAS inflatable raft pack B. Marking for life raft menunda rakit penolong.',\n",
              "  'Kapasitas daya maksimum mo-tor ini ditentukan oleh otoritas yang berwenang.'],\n",
              " ['4.3.2.'],\n",
              " ['Baju penolong, sebagai tambahan dari yang harus dibawa oleh kapal, harus disediakan untuk setiap orang yang ditugaskan mengawaki sekoci penyelamat.',\n",
              "  'Jika tersedia, baju cebur, dianggap memenuhi standar.'],\n",
              " ['4.3.3.'],\n",
              " ['Senter kedap air.'],\n",
              " ['4.3.4.'],\n",
              " ['Gayung yang kokoh buatannya dilengkapi dengan tali, atau pompa bilga.'],\n",
              " ['4.3.5.'],\n",
              " ['Dayung atau pengayuh.'],\n",
              " ['4.3.6.'],\n",
              " ['Tali buangan.'],\n",
              " ['4.3.7.'],\n",
              " ['untuk sekoci penolong kembung, peralatan berikut ini harus ditambahkan:1)',\n",
              "  'Pompa tangan atau pompa lengkap dengan slang- nya dan adapter katup pengembung, harus mampu mengembungkan sekoci penyelamat hingga men-capai tekanan kerja normal.',\n",
              "  '2) Kotak peralatan darurat lengkap dengan penam - bal, lem dan petunjuk yang sesuai.'],\n",
              " ['4.4.'],\n",
              " ['Pemarkaan sekoci penyelamat Pita pemantul cahaya (retro-reflektif) harus dilengkapkan dan di-',\n",
              "  'pasang sesuai dengan persyaratan sekoci penyelamat.',\n",
              "  'Seksi 5 SAMPAN 5.1.',\n",
              "  'Persyaratan sampan5.1.1.',\n",
              "  'Sampan harus memiliki panjang minimal 2,4 meter, diran-cang dan dibangun untuk perairan terbuka dan memiliki daya apung cadangan pada level yang memenuhi untuk daya apung dan stabilitas di rawa dan dilengkapi dengan bahan apung yang sesuai.'],\n",
              " ['5.1.2.'],\n",
              " ['Sampan harus memiliki warna yang sangat mencolok.'],\n",
              " ['5.1.3.'],\n",
              " ['Sampan harus dilengkapi dengan tali pegangan yang efektif ketika sampan berada pada posisi tegak atau ter - balik dan tidak diikat lebih dari 150 mm atau kurang dari 100 mm di bawah bordu.',\n",
              "  'diikatkan pada jarak antara 100 sampai dengan 150 mm di bawah bordu 5.1.4.',\n",
              "  'Titik ikat harus diberi jarak tidak lebih dari 460 mm dan tidak kurang dari 300 mm antara masing-masing pusat tali pegangan dan disangli untuk menghindari pergeser - an.',\n",
              "  'Kedalaman loop ketika kapal tegak lurus tidak boleh lebih dari 200 mm atau kurang dari 150 mm.'],\n",
              " ['5.2.',\n",
              "  'Perlengkapan sampan Sampan harus dilengkapi dengan perlengkapan sebagai berikut:5.2.1.',\n",
              "  'Dua dayung dan keliti, atau pengayuh 5.2.2.',\n",
              "  'Satu panglen yang terpasang di haluan 5.2.3.',\n",
              "  'Satu timba atau gayung lengkap dengan talinya 5.2.4.'],\n",
              " ['Satu sumbat (Prop) yang dipasangi tali secara permanen 5.3.',\n",
              "  'Pemarkaan sampan Pita pemantul cahaya harus memenuhi persyaratan dan dipasang sesuai dengan persyaratan otoritas yang berwenang.'],\n",
              " ['5.4.'],\n",
              " ['Kapasitas orang Kapasitas orang di atas sampan harus ditetapkan sesuai dengan ketentuan dan ditandai secara permanen dan dapat terbaca dengan jelas pada transom sampan dengan warna yang mencolok dengan tinggi huruf tidak kurang dari 75 mm.',\n",
              "  'Seksi 6 RAKIT PENOLONG KEMBUNG 6.1.',\n",
              "  'Kategori A 6.1.1.'],\n",
              " ['sesuai dengan SoLAS dan ketentuan konvensi interna - sional lainnya mengenai rakit penolong kembung dan semua protokol, kode dan amandemennya.'],\n",
              " ['6.2.',\n",
              "  'Kategori B 6.2.1.',\n",
              "  'Pada dasarnya adalah sama dengan kategori A, namun den-gan kualitas dan kuantitas yang lebih kecil.',\n",
              "  'Kategori ini']]"
            ]
          },
          "metadata": {},
          "execution_count": 22
        }
      ]
    },
    {
      "cell_type": "markdown",
      "source": [
        "# Export to ChromaDB\n",
        "\n",
        "Embeddings created will be stored in ChromaDB, and Chroma can also act like a retriever by utilizing an embedding model."
      ],
      "metadata": {
        "id": "lHdjYKq17OpH"
      }
    },
    {
      "cell_type": "code",
      "source": [
        "from langchain_chroma import Chroma\n",
        "\n"
      ],
      "metadata": {
        "id": "A-92TtK1qbWt"
      },
      "execution_count": null,
      "outputs": []
    }
  ]
}
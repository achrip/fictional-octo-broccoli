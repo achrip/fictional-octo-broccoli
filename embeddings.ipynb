{
  "nbformat": 4,
  "nbformat_minor": 0,
  "metadata": {
    "colab": {
      "provenance": [],
      "mount_file_id": "1D45Iqcl1tyqgKdGw7taxeVbq_Ra-JMr_",
      "authorship_tag": "ABX9TyM2UvNkaaA/qYjOm24Zy39z",
      "include_colab_link": true
    },
    "kernelspec": {
      "name": "python3",
      "display_name": "Python 3"
    },
    "language_info": {
      "name": "python"
    }
  },
  "cells": [
    {
      "cell_type": "markdown",
      "metadata": {
        "id": "view-in-github",
        "colab_type": "text"
      },
      "source": [
        "<a href=\"https://colab.research.google.com/github/achrip/fictional-octo-broccoli/blob/main/embeddings.ipynb\" target=\"_parent\"><img src=\"https://colab.research.google.com/assets/colab-badge.svg\" alt=\"Open In Colab\"/></a>"
      ]
    },
    {
      "cell_type": "code",
      "execution_count": null,
      "metadata": {
        "id": "jxgQT0YuXw3W",
        "colab": {
          "base_uri": "https://localhost:8080/"
        },
        "collapsed": true,
        "outputId": "a04fd18b-2b8c-47bb-903e-99731fc7e64b"
      },
      "outputs": [
        {
          "output_type": "stream",
          "name": "stdout",
          "text": [
            "\u001b[2K     \u001b[90m━━━━━━━━━━━━━━━━━━━━━━━━━━━━━━━━━━━━━━━━\u001b[0m \u001b[32m1.3/1.3 MB\u001b[0m \u001b[31m19.1 MB/s\u001b[0m eta \u001b[36m0:00:00\u001b[0m\n",
            "\u001b[2K     \u001b[90m━━━━━━━━━━━━━━━━━━━━━━━━━━━━━━━━━━━━━━━━\u001b[0m \u001b[32m119.8/119.8 MB\u001b[0m \u001b[31m8.2 MB/s\u001b[0m eta \u001b[36m0:00:00\u001b[0m\n",
            "\u001b[2K     \u001b[90m━━━━━━━━━━━━━━━━━━━━━━━━━━━━━━━━━━━━━━━━\u001b[0m \u001b[32m1.1/1.1 MB\u001b[0m \u001b[31m63.5 MB/s\u001b[0m eta \u001b[36m0:00:00\u001b[0m\n",
            "\u001b[2K     \u001b[90m━━━━━━━━━━━━━━━━━━━━━━━━━━━━━━━━━━━━━━━━\u001b[0m \u001b[32m526.8/526.8 kB\u001b[0m \u001b[31m41.6 MB/s\u001b[0m eta \u001b[36m0:00:00\u001b[0m\n",
            "\u001b[2K     \u001b[90m━━━━━━━━━━━━━━━━━━━━━━━━━━━━━━━━━━━━━━━━\u001b[0m \u001b[32m47.2/47.2 kB\u001b[0m \u001b[31m5.0 MB/s\u001b[0m eta \u001b[36m0:00:00\u001b[0m\n",
            "\u001b[2K     \u001b[90m━━━━━━━━━━━━━━━━━━━━━━━━━━━━━━━━━━━━━━━━\u001b[0m \u001b[32m308.5/308.5 kB\u001b[0m \u001b[31m28.0 MB/s\u001b[0m eta \u001b[36m0:00:00\u001b[0m\n",
            "\u001b[2K     \u001b[90m━━━━━━━━━━━━━━━━━━━━━━━━━━━━━━━━━━━━━━━━\u001b[0m \u001b[32m122.8/122.8 kB\u001b[0m \u001b[31m12.0 MB/s\u001b[0m eta \u001b[36m0:00:00\u001b[0m\n",
            "\u001b[2K     \u001b[90m━━━━━━━━━━━━━━━━━━━━━━━━━━━━━━━━━━━━━━━━\u001b[0m \u001b[32m171.5/171.5 kB\u001b[0m \u001b[31m14.4 MB/s\u001b[0m eta \u001b[36m0:00:00\u001b[0m\n",
            "\u001b[2K     \u001b[90m━━━━━━━━━━━━━━━━━━━━━━━━━━━━━━━━━━━━━━━━\u001b[0m \u001b[32m92.0/92.0 kB\u001b[0m \u001b[31m10.6 MB/s\u001b[0m eta \u001b[36m0:00:00\u001b[0m\n",
            "\u001b[2K     \u001b[90m━━━━━━━━━━━━━━━━━━━━━━━━━━━━━━━━━━━━━━━━\u001b[0m \u001b[32m21.3/21.3 MB\u001b[0m \u001b[31m54.3 MB/s\u001b[0m eta \u001b[36m0:00:00\u001b[0m\n",
            "\u001b[2K     \u001b[90m━━━━━━━━━━━━━━━━━━━━━━━━━━━━━━━━━━━━━━━━\u001b[0m \u001b[32m2.4/2.4 MB\u001b[0m \u001b[31m81.7 MB/s\u001b[0m eta \u001b[36m0:00:00\u001b[0m\n",
            "\u001b[2K     \u001b[90m━━━━━━━━━━━━━━━━━━━━━━━━━━━━━━━━━━━━━━━━\u001b[0m \u001b[32m62.4/62.4 kB\u001b[0m \u001b[31m6.5 MB/s\u001b[0m eta \u001b[36m0:00:00\u001b[0m\n",
            "\u001b[2K     \u001b[90m━━━━━━━━━━━━━━━━━━━━━━━━━━━━━━━━━━━━━━━━\u001b[0m \u001b[32m41.3/41.3 kB\u001b[0m \u001b[31m3.5 MB/s\u001b[0m eta \u001b[36m0:00:00\u001b[0m\n",
            "\u001b[2K     \u001b[90m━━━━━━━━━━━━━━━━━━━━━━━━━━━━━━━━━━━━━━━━\u001b[0m \u001b[32m6.8/6.8 MB\u001b[0m \u001b[31m91.3 MB/s\u001b[0m eta \u001b[36m0:00:00\u001b[0m\n",
            "\u001b[2K     \u001b[90m━━━━━━━━━━━━━━━━━━━━━━━━━━━━━━━━━━━━━━━━\u001b[0m \u001b[32m60.1/60.1 kB\u001b[0m \u001b[31m6.3 MB/s\u001b[0m eta \u001b[36m0:00:00\u001b[0m\n",
            "\u001b[2K     \u001b[90m━━━━━━━━━━━━━━━━━━━━━━━━━━━━━━━━━━━━━━━━\u001b[0m \u001b[32m106.1/106.1 kB\u001b[0m \u001b[31m10.8 MB/s\u001b[0m eta \u001b[36m0:00:00\u001b[0m\n",
            "\u001b[2K     \u001b[90m━━━━━━━━━━━━━━━━━━━━━━━━━━━━━━━━━━━━━━━━\u001b[0m \u001b[32m67.3/67.3 kB\u001b[0m \u001b[31m7.3 MB/s\u001b[0m eta \u001b[36m0:00:00\u001b[0m\n",
            "\u001b[?25h  Installing build dependencies ... \u001b[?25l\u001b[?25hdone\n",
            "  Getting requirements to build wheel ... \u001b[?25l\u001b[?25hdone\n",
            "  Preparing metadata (pyproject.toml) ... \u001b[?25l\u001b[?25hdone\n",
            "\u001b[2K     \u001b[90m━━━━━━━━━━━━━━━━━━━━━━━━━━━━━━━━━━━━━━━━\u001b[0m \u001b[32m283.7/283.7 kB\u001b[0m \u001b[31m22.7 MB/s\u001b[0m eta \u001b[36m0:00:00\u001b[0m\n",
            "\u001b[2K     \u001b[90m━━━━━━━━━━━━━━━━━━━━━━━━━━━━━━━━━━━━━━━━\u001b[0m \u001b[32m1.6/1.6 MB\u001b[0m \u001b[31m53.9 MB/s\u001b[0m eta \u001b[36m0:00:00\u001b[0m\n",
            "\u001b[2K     \u001b[90m━━━━━━━━━━━━━━━━━━━━━━━━━━━━━━━━━━━━━━━━\u001b[0m \u001b[32m67.6/67.6 kB\u001b[0m \u001b[31m7.0 MB/s\u001b[0m eta \u001b[36m0:00:00\u001b[0m\n",
            "\u001b[2K     \u001b[90m━━━━━━━━━━━━━━━━━━━━━━━━━━━━━━━━━━━━━━━━\u001b[0m \u001b[32m142.5/142.5 kB\u001b[0m \u001b[31m12.3 MB/s\u001b[0m eta \u001b[36m0:00:00\u001b[0m\n",
            "\u001b[2K     \u001b[90m━━━━━━━━━━━━━━━━━━━━━━━━━━━━━━━━━━━━━━━━\u001b[0m \u001b[32m49.3/49.3 kB\u001b[0m \u001b[31m5.2 MB/s\u001b[0m eta \u001b[36m0:00:00\u001b[0m\n",
            "\u001b[2K     \u001b[90m━━━━━━━━━━━━━━━━━━━━━━━━━━━━━━━━━━━━━━━━\u001b[0m \u001b[32m71.9/71.9 kB\u001b[0m \u001b[31m2.8 MB/s\u001b[0m eta \u001b[36m0:00:00\u001b[0m\n",
            "\u001b[2K     \u001b[90m━━━━━━━━━━━━━━━━━━━━━━━━━━━━━━━━━━━━━━━━\u001b[0m \u001b[32m75.6/75.6 kB\u001b[0m \u001b[31m8.5 MB/s\u001b[0m eta \u001b[36m0:00:00\u001b[0m\n",
            "\u001b[2K     \u001b[90m━━━━━━━━━━━━━━━━━━━━━━━━━━━━━━━━━━━━━━━━\u001b[0m \u001b[32m53.6/53.6 kB\u001b[0m \u001b[31m5.9 MB/s\u001b[0m eta \u001b[36m0:00:00\u001b[0m\n",
            "\u001b[2K     \u001b[90m━━━━━━━━━━━━━━━━━━━━━━━━━━━━━━━━━━━━━━━━\u001b[0m \u001b[32m53.0/53.0 kB\u001b[0m \u001b[31m5.3 MB/s\u001b[0m eta \u001b[36m0:00:00\u001b[0m\n",
            "\u001b[2K     \u001b[90m━━━━━━━━━━━━━━━━━━━━━━━━━━━━━━━━━━━━━━━━\u001b[0m \u001b[32m46.0/46.0 kB\u001b[0m \u001b[31m3.1 MB/s\u001b[0m eta \u001b[36m0:00:00\u001b[0m\n",
            "\u001b[2K     \u001b[90m━━━━━━━━━━━━━━━━━━━━━━━━━━━━━━━━━━━━━━━━\u001b[0m \u001b[32m50.8/50.8 kB\u001b[0m \u001b[31m4.5 MB/s\u001b[0m eta \u001b[36m0:00:00\u001b[0m\n",
            "\u001b[2K     \u001b[90m━━━━━━━━━━━━━━━━━━━━━━━━━━━━━━━━━━━━━━━━\u001b[0m \u001b[32m58.3/58.3 kB\u001b[0m \u001b[31m6.0 MB/s\u001b[0m eta \u001b[36m0:00:00\u001b[0m\n",
            "\u001b[2K     \u001b[90m━━━━━━━━━━━━━━━━━━━━━━━━━━━━━━━━━━━━━━━━\u001b[0m \u001b[32m341.4/341.4 kB\u001b[0m \u001b[31m26.9 MB/s\u001b[0m eta \u001b[36m0:00:00\u001b[0m\n",
            "\u001b[2K     \u001b[90m━━━━━━━━━━━━━━━━━━━━━━━━━━━━━━━━━━━━━━━━\u001b[0m \u001b[32m3.4/3.4 MB\u001b[0m \u001b[31m70.4 MB/s\u001b[0m eta \u001b[36m0:00:00\u001b[0m\n",
            "\u001b[2K     \u001b[90m━━━━━━━━━━━━━━━━━━━━━━━━━━━━━━━━━━━━━━━━\u001b[0m \u001b[32m1.2/1.2 MB\u001b[0m \u001b[31m51.1 MB/s\u001b[0m eta \u001b[36m0:00:00\u001b[0m\n",
            "\u001b[2K     \u001b[90m━━━━━━━━━━━━━━━━━━━━━━━━━━━━━━━━━━━━━━━━\u001b[0m \u001b[32m130.2/130.2 kB\u001b[0m \u001b[31m13.4 MB/s\u001b[0m eta \u001b[36m0:00:00\u001b[0m\n",
            "\u001b[2K     \u001b[90m━━━━━━━━━━━━━━━━━━━━━━━━━━━━━━━━━━━━━━━━\u001b[0m \u001b[32m307.7/307.7 kB\u001b[0m \u001b[31m24.6 MB/s\u001b[0m eta \u001b[36m0:00:00\u001b[0m\n",
            "\u001b[2K     \u001b[90m━━━━━━━━━━━━━━━━━━━━━━━━━━━━━━━━━━━━━━━━\u001b[0m \u001b[32m6.6/6.6 MB\u001b[0m \u001b[31m98.4 MB/s\u001b[0m eta \u001b[36m0:00:00\u001b[0m\n",
            "\u001b[2K     \u001b[90m━━━━━━━━━━━━━━━━━━━━━━━━━━━━━━━━━━━━━━━━\u001b[0m \u001b[32m6.6/6.6 MB\u001b[0m \u001b[31m85.9 MB/s\u001b[0m eta \u001b[36m0:00:00\u001b[0m\n",
            "\u001b[2K     \u001b[90m━━━━━━━━━━━━━━━━━━━━━━━━━━━━━━━━━━━━━━━━\u001b[0m \u001b[32m6.6/6.6 MB\u001b[0m \u001b[31m85.0 MB/s\u001b[0m eta \u001b[36m0:00:00\u001b[0m\n",
            "\u001b[2K     \u001b[90m━━━━━━━━━━━━━━━━━━━━━━━━━━━━━━━━━━━━━━━━\u001b[0m \u001b[32m47.3/47.3 kB\u001b[0m \u001b[31m5.3 MB/s\u001b[0m eta \u001b[36m0:00:00\u001b[0m\n",
            "\u001b[2K     \u001b[90m━━━━━━━━━━━━━━━━━━━━━━━━━━━━━━━━━━━━━━━━\u001b[0m \u001b[32m6.6/6.6 MB\u001b[0m \u001b[31m85.1 MB/s\u001b[0m eta \u001b[36m0:00:00\u001b[0m\n",
            "\u001b[2K     \u001b[90m━━━━━━━━━━━━━━━━━━━━━━━━━━━━━━━━━━━━━━━━\u001b[0m \u001b[32m6.6/6.6 MB\u001b[0m \u001b[31m88.8 MB/s\u001b[0m eta \u001b[36m0:00:00\u001b[0m\n",
            "\u001b[2K     \u001b[90m━━━━━━━━━━━━━━━━━━━━━━━━━━━━━━━━━━━━━━━━\u001b[0m \u001b[32m919.6/919.6 kB\u001b[0m \u001b[31m55.3 MB/s\u001b[0m eta \u001b[36m0:00:00\u001b[0m\n",
            "\u001b[2K     \u001b[90m━━━━━━━━━━━━━━━━━━━━━━━━━━━━━━━━━━━━━━━━\u001b[0m \u001b[32m6.7/6.7 MB\u001b[0m \u001b[31m91.0 MB/s\u001b[0m eta \u001b[36m0:00:00\u001b[0m\n",
            "\u001b[2K     \u001b[90m━━━━━━━━━━━━━━━━━━━━━━━━━━━━━━━━━━━━━━━━\u001b[0m \u001b[32m3.1/3.1 MB\u001b[0m \u001b[31m21.7 MB/s\u001b[0m eta \u001b[36m0:00:00\u001b[0m\n",
            "\u001b[2K     \u001b[90m━━━━━━━━━━━━━━━━━━━━━━━━━━━━━━━━━━━━━━━━\u001b[0m \u001b[32m6.6/6.6 MB\u001b[0m \u001b[31m88.8 MB/s\u001b[0m eta \u001b[36m0:00:00\u001b[0m\n",
            "\u001b[2K     \u001b[90m━━━━━━━━━━━━━━━━━━━━━━━━━━━━━━━━━━━━━━━━\u001b[0m \u001b[32m6.6/6.6 MB\u001b[0m \u001b[31m96.8 MB/s\u001b[0m eta \u001b[36m0:00:00\u001b[0m\n",
            "\u001b[2K     \u001b[90m━━━━━━━━━━━━━━━━━━━━━━━━━━━━━━━━━━━━━━━━\u001b[0m \u001b[32m525.5/525.5 kB\u001b[0m \u001b[31m38.5 MB/s\u001b[0m eta \u001b[36m0:00:00\u001b[0m\n",
            "\u001b[2K     \u001b[90m━━━━━━━━━━━━━━━━━━━━━━━━━━━━━━━━━━━━━━━━\u001b[0m \u001b[32m5.4/5.4 MB\u001b[0m \u001b[31m15.1 MB/s\u001b[0m eta \u001b[36m0:00:00\u001b[0m\n",
            "\u001b[2K     \u001b[90m━━━━━━━━━━━━━━━━━━━━━━━━━━━━━━━━━━━━━━━━\u001b[0m \u001b[32m91.8/91.8 kB\u001b[0m \u001b[31m10.9 MB/s\u001b[0m eta \u001b[36m0:00:00\u001b[0m\n",
            "\u001b[2K     \u001b[90m━━━━━━━━━━━━━━━━━━━━━━━━━━━━━━━━━━━━━━━━\u001b[0m \u001b[32m86.8/86.8 kB\u001b[0m \u001b[31m7.0 MB/s\u001b[0m eta \u001b[36m0:00:00\u001b[0m\n",
            "\u001b[?25h  Building wheel for pypika (pyproject.toml) ... \u001b[?25l\u001b[?25hdone\n"
          ]
        }
      ],
      "source": [
        "!pip install -Uq \\\n",
        "langchain langchain-community langchain-huggingface langchain-chroma \\\n",
        "pypdf transformers accelerate Xformers InstructorEmbedding \\\n",
        "sentencepiece bitsandbytes tiktoken chromadb typer semantic_split"
      ]
    },
    {
      "cell_type": "markdown",
      "source": [
        "# Document Pre-Processing\n",
        "\n",
        "- Importing PDFs\n",
        "- Parsing PDFs\n",
        "- Splitting into chunks"
      ],
      "metadata": {
        "id": "xOpCoZTokY88"
      }
    },
    {
      "cell_type": "code",
      "source": [
        "import os\n",
        "\n",
        "from langchain.text_splitter import RecursiveCharacterTextSplitter\n",
        "from langchain_community.document_loaders import PyPDFLoader, DirectoryLoader\n",
        "from semantic_split import SimilarSentenceSplitter, SentenceTransformersSimilarity, SpacySentenceSplitter"
      ],
      "metadata": {
        "id": "REVZPZGCjCXa"
      },
      "execution_count": null,
      "outputs": []
    },
    {
      "cell_type": "code",
      "source": [
        "path = \"/content/drive/MyDrive/ncvs_documents/\"\n",
        "loader = DirectoryLoader(path=path,\n",
        "                         glob=\"*.pdf\",\n",
        "                         loader_cls=PyPDFLoader)\n",
        "documents = loader.load()"
      ],
      "metadata": {
        "id": "saOupBeaj7Fc"
      },
      "execution_count": null,
      "outputs": []
    },
    {
      "cell_type": "markdown",
      "source": [
        "The `documents` is specifically an instance of `List[Document]` class. It consists of the tuple: `page_content` and `metadata` as shown below."
      ],
      "metadata": {
        "id": "kb5_xhnmllB4"
      }
    },
    {
      "cell_type": "code",
      "source": [
        "documents[36]"
      ],
      "metadata": {
        "colab": {
          "base_uri": "https://localhost:8080/"
        },
        "id": "e45tL1X6kTWG",
        "outputId": "8b3be5ae-4be3-4cf6-fec0-d299ad6ab3f8"
      },
      "execution_count": null,
      "outputs": [
        {
          "output_type": "execute_result",
          "data": {
            "text/plain": [
              "Document(page_content='Chapter VIII Manning Bab VIII  Pengawakan NCVS Indonesia\\nVIII - 379.3.10. 2nd Class Engineer \\n   c. tugas yang berkaitan dengan penyerahan  \\n\\t \\t \\t \\t dinas\\tjaga\\tprosedur\\tkeselamatan\\tdan\\t\\t \\t\\n    darurat; mengubah semua sistem remote  \\n    control;\\n   kewaspadaan keselamatan yang harus dilaku\\n\\t \\t \\t kan\\tselama\\tdinas\\tjaga\\tdan\\ttindakan\\tsegera\\t\\t\\n\\t \\t \\t yang\\tharus\\tdilaksanakan\\tjika\\tterjadi\\tkeba-\\n   karan atau kecelakaan, khususnya yang   \\n   berkaitan dengan sistem bahan bakar.\\n4) Mengoperasikan Sistem pompa: \\n sistem pompa dan a. operasi pemompaan rutin \\n sistem pengendali b. operasi sistem pompa bilga, ballast dan \\n terkait.  muatan\\nPengendalian operasional kapal dan kepedulian terhadap kesela-\\nmatan orang di atas kapal pada tingkat operasional\\n5) memastikan peme- Pencegahan pencemaran lingkungan laut\\n nuhan persyaratan dan prosedur anti pencemaran \\n pencegahan pence-\\n maran  Pengetahuan mengenai kewaspadaan yang  \\n   harus dilakukan untuk mencegah pencema- \\n   ran terhadap lingkungan laut dan prosedur  \\n   anti pencemaran;\\n   Prosedur anti pencemaran dan semua pera- \\n   latan terkait.\\n6) Mempertahankan Konstruksi kapal \\n kelaik-lautan kapal \\n\\t (lanjutan).\\t Pengetahuan \\tumum\\tmengenai\\tstruktur\\tutama\\t\\t\\n   kapal dan nama yang sesuai untuk berbagai  \\n   bagian.\\n7) Pencegahan, penge- Pencegahan kebakaran dan alat pemadam\\n ndalian dan pemada-\\n man kebakaran di Pengetahuan tentang pencegahan kebakaran; \\n atas kapal Mampu untuk melaksanakan pelatihan keba \\n   karan;\\n   Pengetahuan mengenai pengelompokan kelas  \\n   dan kimia bahan rentan kebakaran;\\n   Pengetahuan mengenai sistem pemadaman;\\n   Pengetahuan mengenai tindakan yang harus  \\n   dilakukan saat kebakaran, termasuk keba  \\n   karan akibat sistem bahan bakar;\\n8) Mengoperasikan  Alat penolong\\n alat penolong. Mampu melaksanakan pelatihan mening \\n   galkan kapal dan pengetahuan mengenai  \\n   pengoperasian pesawat luput maut dan \\n   sekoci penyelamat, alat peluncur dan per \\n   lengkapannya, termasuk peralatan radio   \\n   penyelamat,;\\n   Pengetahuan mengenai teknik penyelamatan  \\n   di laut.Fungsi : Pengetahuan teknik mesin kapal tingkat operasional  \\nPersyaratan minimum\\nKualifikasi\\tPelatihan\\t \\t  \\nUmur   22 tahun \\nPendidikan Formal Sekolah Menengah Atas (SMA) + AT III\\nBeban studi  150 Satuan Kredit Semester (SKS) dalam 8  \\n   semester (AT III + minimum  2 semester).\\nKesehatan  Tes kesehatan standar pelaut9.3.10. 2nd Class Engineer Function\\t:\\tMarine\\tengineering\\tat\\tthe\\toperational\\tlevel\\t\\t\\t\\t\\nMinimum Requirements\\nTraining\\tqualification    \\nAge   22 Years  \\nFormal education  High School (SMA) + AT III\\nStudy load 150 credit unit in 8 semesters (AT III +   \\n   minimumof 2 semesters).\\nHealth    Standard Health Test for seafarerc.\\t duties\\t associated\\t with\\thanding\\tover\\ta\\t\\nwatch Safety and emergency procedures;  \\n\\tchange\\tover\\tof\\tremote\\tcontrol\\tof\\tall\\tsys\\t \\t tems;\\n\\t \\tSafety\\t precautions\\t to\\tbe\\tobserved\\tdur-\\ning a watch and immediate actions to be taken\\tin\\tthe\\tevent\\tof\\tfire\\tor\\taccident,\\twith\\t \\t\\nparticular reference to oil systems.\\nPumping systems:a. routine pumping operations\\nb. operation of bilge, ballast and cargo pump-ing sys-tems4) Operate pumping \\nsystems and asso-\\nciated control sys-\\ntems.\\n\\t Prevention\\t of\\tpollution\\tof\\tthe\\tmarine\\tenvi-\\nronment and anti-pollution procedures\\n \\n Knowledge on the precautions to be taken \\nto\\tprevent\\tpollution\\tof\\tthe\\tmarine\\tenviron-\\nment and anti-pollution procedures;\\n Anti-pollution procedures and all associ-\\nated\\tequip-ment.\\n Ship construction\\n General Knowledge on the principal struc-\\ntural members of a ship and the proper \\nnames\\tfor\\tthe\\tvarious\\tparts.\\n Fire\\tprevention\\t and\\tfire-fighting\\t appli -\\nances\\n\\t Knowledge\\ton\\tfire\\tprevention;\\t Ability\\tto\\torganized\\tfire\\tdrills;\\n Knowledge on classes and chemistry of \\nfire;\\n\\t Knowledge\\ton\\tfire-fighting\\tsystems; Knowledge on action to be taken in the event\\tof\\tfire,\\tincluding\\tfires\\tinvolving\\toil\\t\\nsystems.;\\n Life-saving\\n Ability to organize abandon ship drills and \\nKnowledge\\t on\\tthe\\toperation\\tof\\tsurvival\\t\\ncraft and rescue boats, their launching \\nappliances and arrangements, and their \\nequipment,\\t including\\tradio\\tlife-saving\\t ap-\\npliances, \\n\\t Knowledge\\ton\\tsurvival\\tat\\tsea\\ttechniques.5) Ensure compliance with pollution-pre -\\nvention\\t re-quire-\\nments\\n6) Maintain sea-wor -\\nthiness of the ship (continued).\\n7)\\t Prevent,\\t control\\tand\\t\\nfight\\tfires\\ton\\tboard\\n8)\\t Operate\\t life-saving\\t\\nap-pliancesControlling the operation of the ship and care for persons on board \\nat the operational level', metadata={'source': '/content/drive/MyDrive/ncvs_documents/CHAPTER-8_MANNING_v.4.4_1708919279022_0.pdf', 'page': 36})"
            ]
          },
          "metadata": {},
          "execution_count": 13
        }
      ]
    },
    {
      "cell_type": "markdown",
      "source": [
        "## Splitting into Chunks\n",
        "\n",
        "There are two such splitters that are recommended here, one is the `RecursiveCharacterTextSplitter`from Langchain and the other is the [`semantic-split`](https://github.com/agamm/semantic-split) by Agamm.\n",
        "\n",
        "> Known issues:  \n",
        "> `semantic-split` uses string as arguments, meaning we _could_ very well lose page metadata of the content itself. Workaround is in progress."
      ],
      "metadata": {
        "id": "ZNclIWdrmEUh"
      }
    },
    {
      "cell_type": "code",
      "source": [
        "recursive_splitter = RecursiveCharacterTextSplitter(chunk_size=512,\n",
        "                                                   chunk_overlap=64)\n",
        "semantic_splitter = SimilarSentenceSplitter(similarity_model=SentenceTransformersSimilarity(),\n",
        "                                           sentence_splitter=SpacySentenceSplitter())"
      ],
      "metadata": {
        "colab": {
          "base_uri": "https://localhost:8080/"
        },
        "id": "uv1XJfqzl4V7",
        "outputId": "44f7a638-d55b-4771-f7c1-2b6b38566344"
      },
      "execution_count": null,
      "outputs": [
        {
          "output_type": "stream",
          "name": "stderr",
          "text": [
            "/usr/local/lib/python3.10/dist-packages/huggingface_hub/file_download.py:1132: FutureWarning: `resume_download` is deprecated and will be removed in version 1.0.0. Downloads always resume when possible. If you want to force a new download, use `force_download=True`.\n",
            "  warnings.warn(\n"
          ]
        }
      ]
    },
    {
      "cell_type": "code",
      "source": [
        "recursive_text = recursive_splitter.split_documents(documents)\n",
        "\n",
        "semantic_text= list()\n",
        "for i in range(len(documents)):\n",
        "  semantic_text.append(semantic_splitter.split(documents[i].page_content))"
      ],
      "metadata": {
        "id": "DWE9FwzlpSGo"
      },
      "execution_count": null,
      "outputs": []
    },
    {
      "cell_type": "markdown",
      "source": [
        "# Export to ChromaDB\n",
        "\n",
        "Embeddings created will be stored in ChromaDB, and Chroma can also act like a retriever by utilizing an embedding model."
      ],
      "metadata": {
        "id": "lHdjYKq17OpH"
      }
    },
    {
      "cell_type": "code",
      "source": [
        "from langchain_chroma import Chroma\n",
        "\n"
      ],
      "metadata": {
        "id": "A-92TtK1qbWt"
      },
      "execution_count": null,
      "outputs": []
    }
  ]
}